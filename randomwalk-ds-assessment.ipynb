{
 "cells": [
  {
   "cell_type": "markdown",
   "id": "a433761a-89b6-4958-a3b1-29e8a87029ab",
   "metadata": {},
   "source": [
    "<h3>Aravind Harikrishnan - <i>20BDS0020</i></h3>\n",
    "<h3>VIT Vellore</h3>"
   ]
  },
  {
   "cell_type": "code",
   "execution_count": 1,
   "id": "c5a05dc2-a112-421b-95cf-38e7c1196d38",
   "metadata": {},
   "outputs": [],
   "source": [
    "import pandas as pd\n",
    "import matplotlib.pyplot as plt"
   ]
  },
  {
   "cell_type": "code",
   "execution_count": 3,
   "id": "5393ddbd-e0ad-442e-8ae0-beeead33db24",
   "metadata": {},
   "outputs": [],
   "source": [
    "books = pd.read_csv(r\"C:\\Users\\Aravind\\Downloads\\books.csv\")"
   ]
  },
  {
   "cell_type": "code",
   "execution_count": 4,
   "id": "70a4d760-d036-4019-abd1-745e893b9cf9",
   "metadata": {},
   "outputs": [
    {
     "data": {
      "text/html": [
       "<div>\n",
       "<style scoped>\n",
       "    .dataframe tbody tr th:only-of-type {\n",
       "        vertical-align: middle;\n",
       "    }\n",
       "\n",
       "    .dataframe tbody tr th {\n",
       "        vertical-align: top;\n",
       "    }\n",
       "\n",
       "    .dataframe thead th {\n",
       "        text-align: right;\n",
       "    }\n",
       "</style>\n",
       "<table border=\"1\" class=\"dataframe\">\n",
       "  <thead>\n",
       "    <tr style=\"text-align: right;\">\n",
       "      <th></th>\n",
       "      <th>book_id</th>\n",
       "      <th>goodreads_book_id</th>\n",
       "      <th>best_book_id</th>\n",
       "      <th>work_id</th>\n",
       "      <th>books_count</th>\n",
       "      <th>isbn</th>\n",
       "      <th>isbn13</th>\n",
       "      <th>authors</th>\n",
       "      <th>original_publication_year</th>\n",
       "      <th>original_title</th>\n",
       "      <th>...</th>\n",
       "      <th>work_ratings_count</th>\n",
       "      <th>work_text_reviews_count</th>\n",
       "      <th>ratings_1</th>\n",
       "      <th>ratings_2</th>\n",
       "      <th>ratings_3</th>\n",
       "      <th>ratings_4</th>\n",
       "      <th>ratings_5</th>\n",
       "      <th>image_url</th>\n",
       "      <th>small_image_url</th>\n",
       "      <th>NonEnglish</th>\n",
       "    </tr>\n",
       "  </thead>\n",
       "  <tbody>\n",
       "    <tr>\n",
       "      <th>0</th>\n",
       "      <td>15</td>\n",
       "      <td>48855</td>\n",
       "      <td>48855</td>\n",
       "      <td>3532896</td>\n",
       "      <td>710</td>\n",
       "      <td>553296981</td>\n",
       "      <td>9.780553e+12</td>\n",
       "      <td>Anne Frank, Eleanor Roosevelt, B.M. Mooyaart-D...</td>\n",
       "      <td>1947.0</td>\n",
       "      <td>Het Achterhuis: Dagboekbrieven 14 juni 1942 - ...</td>\n",
       "      <td>...</td>\n",
       "      <td>2024493</td>\n",
       "      <td>20825</td>\n",
       "      <td>45225</td>\n",
       "      <td>91270</td>\n",
       "      <td>355756</td>\n",
       "      <td>656870</td>\n",
       "      <td>875372</td>\n",
       "      <td>https://images.gr-assets.com/books/1358276407m...</td>\n",
       "      <td>https://images.gr-assets.com/books/1358276407s...</td>\n",
       "      <td>0</td>\n",
       "    </tr>\n",
       "    <tr>\n",
       "      <th>1</th>\n",
       "      <td>40</td>\n",
       "      <td>19501</td>\n",
       "      <td>19501</td>\n",
       "      <td>3352398</td>\n",
       "      <td>185</td>\n",
       "      <td>143038419</td>\n",
       "      <td>9.780143e+12</td>\n",
       "      <td>Elizabeth Gilbert</td>\n",
       "      <td>2006.0</td>\n",
       "      <td>Eat, pray, love: one woman's search for everyt...</td>\n",
       "      <td>...</td>\n",
       "      <td>1206597</td>\n",
       "      <td>49714</td>\n",
       "      <td>100373</td>\n",
       "      <td>149549</td>\n",
       "      <td>310212</td>\n",
       "      <td>332191</td>\n",
       "      <td>314272</td>\n",
       "      <td>https://images.gr-assets.com/books/1503066414m...</td>\n",
       "      <td>https://images.gr-assets.com/books/1503066414s...</td>\n",
       "      <td>0</td>\n",
       "    </tr>\n",
       "    <tr>\n",
       "      <th>2</th>\n",
       "      <td>81</td>\n",
       "      <td>7445</td>\n",
       "      <td>7445</td>\n",
       "      <td>2944133</td>\n",
       "      <td>92</td>\n",
       "      <td>074324754X</td>\n",
       "      <td>9.780743e+12</td>\n",
       "      <td>Jeannette Walls</td>\n",
       "      <td>2005.0</td>\n",
       "      <td>The Glass Castle</td>\n",
       "      <td>...</td>\n",
       "      <td>637866</td>\n",
       "      <td>40777</td>\n",
       "      <td>7901</td>\n",
       "      <td>18922</td>\n",
       "      <td>85191</td>\n",
       "      <td>227750</td>\n",
       "      <td>298102</td>\n",
       "      <td>https://images.gr-assets.com/books/1400930557m...</td>\n",
       "      <td>https://images.gr-assets.com/books/1400930557s...</td>\n",
       "      <td>0</td>\n",
       "    </tr>\n",
       "    <tr>\n",
       "      <th>3</th>\n",
       "      <td>82</td>\n",
       "      <td>1845</td>\n",
       "      <td>1845</td>\n",
       "      <td>3284484</td>\n",
       "      <td>108</td>\n",
       "      <td>385486804</td>\n",
       "      <td>9.780385e+12</td>\n",
       "      <td>Jon Krakauer</td>\n",
       "      <td>1996.0</td>\n",
       "      <td>Into the Wild</td>\n",
       "      <td>...</td>\n",
       "      <td>665377</td>\n",
       "      <td>17299</td>\n",
       "      <td>19229</td>\n",
       "      <td>35567</td>\n",
       "      <td>135199</td>\n",
       "      <td>248287</td>\n",
       "      <td>227095</td>\n",
       "      <td>https://images.gr-assets.com/books/1403173986m...</td>\n",
       "      <td>https://images.gr-assets.com/books/1403173986s...</td>\n",
       "      <td>0</td>\n",
       "    </tr>\n",
       "    <tr>\n",
       "      <th>4</th>\n",
       "      <td>87</td>\n",
       "      <td>1617</td>\n",
       "      <td>1617</td>\n",
       "      <td>265616</td>\n",
       "      <td>109</td>\n",
       "      <td>374500010</td>\n",
       "      <td>9.780375e+12</td>\n",
       "      <td>Elie Wiesel, Marion Wiesel</td>\n",
       "      <td>1958.0</td>\n",
       "      <td>Un di Velt Hot Geshvign</td>\n",
       "      <td>...</td>\n",
       "      <td>707879</td>\n",
       "      <td>22001</td>\n",
       "      <td>7761</td>\n",
       "      <td>18539</td>\n",
       "      <td>90575</td>\n",
       "      <td>230227</td>\n",
       "      <td>360777</td>\n",
       "      <td>https://images.gr-assets.com/books/1473495285m...</td>\n",
       "      <td>https://images.gr-assets.com/books/1473495285s...</td>\n",
       "      <td>0</td>\n",
       "    </tr>\n",
       "  </tbody>\n",
       "</table>\n",
       "<p>5 rows × 24 columns</p>\n",
       "</div>"
      ],
      "text/plain": [
       "   book_id  goodreads_book_id  best_book_id  work_id  books_count        isbn  \\\n",
       "0       15              48855         48855  3532896          710   553296981   \n",
       "1       40              19501         19501  3352398          185   143038419   \n",
       "2       81               7445          7445  2944133           92  074324754X   \n",
       "3       82               1845          1845  3284484          108   385486804   \n",
       "4       87               1617          1617   265616          109   374500010   \n",
       "\n",
       "         isbn13                                            authors  \\\n",
       "0  9.780553e+12  Anne Frank, Eleanor Roosevelt, B.M. Mooyaart-D...   \n",
       "1  9.780143e+12                                  Elizabeth Gilbert   \n",
       "2  9.780743e+12                                    Jeannette Walls   \n",
       "3  9.780385e+12                                       Jon Krakauer   \n",
       "4  9.780375e+12                         Elie Wiesel, Marion Wiesel   \n",
       "\n",
       "   original_publication_year  \\\n",
       "0                     1947.0   \n",
       "1                     2006.0   \n",
       "2                     2005.0   \n",
       "3                     1996.0   \n",
       "4                     1958.0   \n",
       "\n",
       "                                      original_title  ... work_ratings_count  \\\n",
       "0  Het Achterhuis: Dagboekbrieven 14 juni 1942 - ...  ...            2024493   \n",
       "1  Eat, pray, love: one woman's search for everyt...  ...            1206597   \n",
       "2                                   The Glass Castle  ...             637866   \n",
       "3                                      Into the Wild  ...             665377   \n",
       "4                            Un di Velt Hot Geshvign  ...             707879   \n",
       "\n",
       "  work_text_reviews_count  ratings_1  ratings_2  ratings_3  ratings_4  \\\n",
       "0                   20825      45225      91270     355756     656870   \n",
       "1                   49714     100373     149549     310212     332191   \n",
       "2                   40777       7901      18922      85191     227750   \n",
       "3                   17299      19229      35567     135199     248287   \n",
       "4                   22001       7761      18539      90575     230227   \n",
       "\n",
       "   ratings_5                                          image_url  \\\n",
       "0     875372  https://images.gr-assets.com/books/1358276407m...   \n",
       "1     314272  https://images.gr-assets.com/books/1503066414m...   \n",
       "2     298102  https://images.gr-assets.com/books/1400930557m...   \n",
       "3     227095  https://images.gr-assets.com/books/1403173986m...   \n",
       "4     360777  https://images.gr-assets.com/books/1473495285m...   \n",
       "\n",
       "                                     small_image_url  NonEnglish  \n",
       "0  https://images.gr-assets.com/books/1358276407s...           0  \n",
       "1  https://images.gr-assets.com/books/1503066414s...           0  \n",
       "2  https://images.gr-assets.com/books/1400930557s...           0  \n",
       "3  https://images.gr-assets.com/books/1403173986s...           0  \n",
       "4  https://images.gr-assets.com/books/1473495285s...           0  \n",
       "\n",
       "[5 rows x 24 columns]"
      ]
     },
     "execution_count": 4,
     "metadata": {},
     "output_type": "execute_result"
    }
   ],
   "source": [
    "books.head()"
   ]
  },
  {
   "cell_type": "code",
   "execution_count": 5,
   "id": "50408406-0b44-4b22-91e9-6d1c69ee37e0",
   "metadata": {},
   "outputs": [
    {
     "data": {
      "text/plain": [
       "book_id                        int64\n",
       "goodreads_book_id              int64\n",
       "best_book_id                   int64\n",
       "work_id                        int64\n",
       "books_count                    int64\n",
       "isbn                          object\n",
       "isbn13                       float64\n",
       "authors                       object\n",
       "original_publication_year    float64\n",
       "original_title                object\n",
       "title                         object\n",
       "language_code                 object\n",
       "average_rating               float64\n",
       "ratings_count                  int64\n",
       "work_ratings_count             int64\n",
       "work_text_reviews_count        int64\n",
       "ratings_1                      int64\n",
       "ratings_2                      int64\n",
       "ratings_3                      int64\n",
       "ratings_4                      int64\n",
       "ratings_5                      int64\n",
       "image_url                     object\n",
       "small_image_url               object\n",
       "NonEnglish                     int64\n",
       "dtype: object"
      ]
     },
     "execution_count": 5,
     "metadata": {},
     "output_type": "execute_result"
    }
   ],
   "source": [
    "books.dtypes"
   ]
  },
  {
   "cell_type": "markdown",
   "id": "19848d08-17d1-4929-8e6a-2b3d3ad3fc10",
   "metadata": {},
   "source": [
    "<h3><b>Answers</b></h3>"
   ]
  },
  {
   "cell_type": "markdown",
   "id": "46cdc56a-3695-4479-b0d0-04466b83726f",
   "metadata": {},
   "source": [
    "<h5>Q1: How many rows and columns are there in books.csv dataset?</h5>"
   ]
  },
  {
   "cell_type": "code",
   "execution_count": null,
   "id": "572ba36b-7354-4891-8a96-62ffb91eff2e",
   "metadata": {},
   "outputs": [],
   "source": [
    "books.shape"
   ]
  },
  {
   "cell_type": "raw",
   "id": "e5f33d50-646f-47c6-9359-aec12bca388a",
   "metadata": {},
   "source": [
    "399 Rows \n",
    "24 Columns"
   ]
  },
  {
   "cell_type": "markdown",
   "id": "46efd58c-6cf1-4f8a-b81d-1003f679c1af",
   "metadata": {},
   "source": [
    "<h5>Q2: How many books do not have an original title?</h5>"
   ]
  },
  {
   "cell_type": "code",
   "execution_count": null,
   "id": "ca70344d-cc75-4058-9aa1-f2b90dc728f3",
   "metadata": {},
   "outputs": [],
   "source": [
    "sum(books[\"original_title\"].isnull())"
   ]
  },
  {
   "cell_type": "raw",
   "id": "8e3faea2-7b24-4948-a8e0-395838bb97e8",
   "metadata": {},
   "source": [
    "There are 36 books with a blank original title column"
   ]
  },
  {
   "cell_type": "markdown",
   "id": "e40d6af7-8fcb-4434-8129-8f2764878876",
   "metadata": {},
   "source": [
    "<h5>Q3: How many unique books are present in the dataset ? Evaluate based on the 'book_id' after removing null values in the original_title column.</h5>"
   ]
  },
  {
   "cell_type": "code",
   "execution_count": null,
   "id": "abee74b8-86e3-40e9-a16c-8c7d0ba94b83",
   "metadata": {},
   "outputs": [],
   "source": [
    "books.dropna(subset='original_title',axis=0).book_id.nunique()"
   ]
  },
  {
   "cell_type": "code",
   "execution_count": null,
   "id": "749e3da8-2d47-4833-9240-45ea3780dcab",
   "metadata": {},
   "outputs": [],
   "source": [
    "There are 363 unique books in the dataset"
   ]
  },
  {
   "cell_type": "markdown",
   "id": "958e6785-1201-40d0-839b-aedd4d0955b5",
   "metadata": {},
   "source": [
    "<h5>Q4: What is the average rating of all the books in the dataset based on ‘average_rating’?</h5>"
   ]
  },
  {
   "cell_type": "code",
   "execution_count": null,
   "id": "e95307d0-6f1f-42bf-a5d6-d63392dcfaff",
   "metadata": {},
   "outputs": [],
   "source": [
    "books.average_rating.mean()"
   ]
  },
  {
   "cell_type": "raw",
   "id": "18cef786-ba7e-46ae-a936-7da714392710",
   "metadata": {},
   "source": [
    "The average rating of all books is approximately 3.984"
   ]
  },
  {
   "cell_type": "markdown",
   "id": "f87994d9-b6e2-41f5-8e37-0755f1cc1e40",
   "metadata": {},
   "source": [
    "<h5>Q5: Find the number of books published in the year ‘2000’ based on the ‘original_publication_year’.</h5>"
   ]
  },
  {
   "cell_type": "code",
   "execution_count": null,
   "id": "96fafce5-aef4-4d48-b9db-b5180e4687bc",
   "metadata": {},
   "outputs": [],
   "source": [
    "len(books.loc[books.original_publication_year==2000,'original_publication_year'])"
   ]
  },
  {
   "cell_type": "raw",
   "id": "7c430340-fcd2-4e9c-beb7-8c88e7574402",
   "metadata": {},
   "source": [
    "There were 8 books published in the year 2000"
   ]
  },
  {
   "cell_type": "markdown",
   "id": "70cc3e33-f5b9-40f9-86c4-ac44696502b6",
   "metadata": {},
   "source": [
    "<h5>Q6: Which book (title) has the maximum number of ratings based on ‘work_ratings_count’.</h5>"
   ]
  },
  {
   "cell_type": "code",
   "execution_count": null,
   "id": "bdd57a29-d2ec-4928-a364-4e329e77b29b",
   "metadata": {},
   "outputs": [],
   "source": [
    "books.title[books.work_ratings_count.idxmax()]"
   ]
  },
  {
   "cell_type": "raw",
   "id": "e666e2ab-ab8c-4cd4-82a2-bc00121fa61f",
   "metadata": {},
   "source": [
    "The book titled \"Diary of a Young Girl\" has the highest ratings"
   ]
  },
  {
   "cell_type": "markdown",
   "id": "7089e8d9-bf9f-40eb-9142-9d6cb0e501f4",
   "metadata": {},
   "source": [
    "<h5>Q7: Bucket the average_rating of books into 11 buckets [0, 0.5, 1.0, 1.5, 2.0, 2.5, 3.0, 3.5, 4.0, 4.5, 5.0] with 0.5 decimal rounding (eg: average_rating 3.0 to 3.49 will fall in bucket 3.0). Plot bar graph to show total number of books in each rating bucket.</h5>"
   ]
  },
  {
   "cell_type": "code",
   "execution_count": 12,
   "id": "1dae9f54-2965-4305-8d7f-4d2d8a68bdf7",
   "metadata": {},
   "outputs": [
    {
     "data": {
      "image/png": "[encoded data removed]",
      "text/plain": [
       "<Figure size 1000x500 with 1 Axes>"
      ]
     },
     "metadata": {},
     "output_type": "display_data"
    }
   ],
   "source": [
    "bins = [0, 0.5, 1.0, 1.5, 2.0, 2.5, 3.0, 3.5, 4.0, 4.5, 5.00001]\n",
    "labels = [f'[{i:.1f}-{i+0.5:.1f})' for i in bins[:-1]]\n",
    "intervals = pd.cut(books['average_rating'], bins=bins, labels=labels, include_lowest=True).value_counts().sort_index()\n",
    "\n",
    "fig, ax = plt.subplots(figsize=(10, 5)) \n",
    "intervals.plot(kind='bar', edgecolor='green', ax=ax)\n",
    "plt.xlabel('Rating Intervals')\n",
    "plt.xticks(rotation=5)\n",
    "plt.ylabel('Number of Books with rating')\n",
    "plt.title('Distribution of Number of Books over Rating Intervals')\n",
    "plt.show()"
   ]
  },
  {
   "cell_type": "code",
   "execution_count": null,
   "id": "a527b7e8-abcb-4a8d-94ff-b9e8c9fbc4a7",
   "metadata": {},
   "outputs": [],
   "source": []
  }
 ],
 "metadata": {
  "kernelspec": {
   "display_name": "Python 3 (ipykernel)",
   "language": "python",
   "name": "python3"
  },
  "language_info": {
   "codemirror_mode": {
    "name": "ipython",
    "version": 3
   },
   "file_extension": ".py",
   "mimetype": "text/x-python",
   "name": "python",
   "nbconvert_exporter": "python",
   "pygments_lexer": "ipython3",
   "version": "3.11.0"
  }
 },
 "nbformat": 4,
 "nbformat_minor": 5
}
